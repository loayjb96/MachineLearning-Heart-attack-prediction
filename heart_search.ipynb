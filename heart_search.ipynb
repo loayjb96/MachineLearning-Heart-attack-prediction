{
 "cells": [
  {
   "cell_type": "code",
<<<<<<< HEAD
   "execution_count": 5,
   "metadata": {
    "pycharm": {
     "is_executing": false,
     "name": "#%%\n"
    }
   },
=======
   "execution_count": 2,
   "metadata": {},
>>>>>>> 6f794fe3b3ff548b6ae88f0f009c42c486bd6abb
   "outputs": [
    {
     "name": "stdout",
     "output_type": "stream",
     "text": [
      "(1025, 14)\n"
<<<<<<< HEAD
     ],
     "output_type": "stream"
    },
    {
     "data": {
      "text/plain": "   age  sex  cp  trestbps  chol  fbs  restecg  thalach  exang  oldpeak  slope  \\\n0   52    1   0       125   212    0        1      168      0      1.0      2   \n1   53    1   0       140   203    1        0      155      1      3.1      0   \n2   70    1   0       145   174    0        1      125      1      2.6      0   \n3   61    1   0       148   203    0        1      161      0      0.0      2   \n4   62    0   0       138   294    1        1      106      0      1.9      1   \n\n   ca  thal  target  \n0   2     3       0  \n1   0     3       0  \n2   0     3       0  \n3   1     3       0  \n4   3     2       0  ",
      "text/html": "<div>\n<style scoped>\n    .dataframe tbody tr th:only-of-type {\n        vertical-align: middle;\n    }\n\n    .dataframe tbody tr th {\n        vertical-align: top;\n    }\n\n    .dataframe thead th {\n        text-align: right;\n    }\n</style>\n<table border=\"1\" class=\"dataframe\">\n  <thead>\n    <tr style=\"text-align: right;\">\n      <th></th>\n      <th>age</th>\n      <th>sex</th>\n      <th>cp</th>\n      <th>trestbps</th>\n      <th>chol</th>\n      <th>fbs</th>\n      <th>restecg</th>\n      <th>thalach</th>\n      <th>exang</th>\n      <th>oldpeak</th>\n      <th>slope</th>\n      <th>ca</th>\n      <th>thal</th>\n      <th>target</th>\n    </tr>\n  </thead>\n  <tbody>\n    <tr>\n      <td>0</td>\n      <td>52</td>\n      <td>1</td>\n      <td>0</td>\n      <td>125</td>\n      <td>212</td>\n      <td>0</td>\n      <td>1</td>\n      <td>168</td>\n      <td>0</td>\n      <td>1.0</td>\n      <td>2</td>\n      <td>2</td>\n      <td>3</td>\n      <td>0</td>\n    </tr>\n    <tr>\n      <td>1</td>\n      <td>53</td>\n      <td>1</td>\n      <td>0</td>\n      <td>140</td>\n      <td>203</td>\n      <td>1</td>\n      <td>0</td>\n      <td>155</td>\n      <td>1</td>\n      <td>3.1</td>\n      <td>0</td>\n      <td>0</td>\n      <td>3</td>\n      <td>0</td>\n    </tr>\n    <tr>\n      <td>2</td>\n      <td>70</td>\n      <td>1</td>\n      <td>0</td>\n      <td>145</td>\n      <td>174</td>\n      <td>0</td>\n      <td>1</td>\n      <td>125</td>\n      <td>1</td>\n      <td>2.6</td>\n      <td>0</td>\n      <td>0</td>\n      <td>3</td>\n      <td>0</td>\n    </tr>\n    <tr>\n      <td>3</td>\n      <td>61</td>\n      <td>1</td>\n      <td>0</td>\n      <td>148</td>\n      <td>203</td>\n      <td>0</td>\n      <td>1</td>\n      <td>161</td>\n      <td>0</td>\n      <td>0.0</td>\n      <td>2</td>\n      <td>1</td>\n      <td>3</td>\n      <td>0</td>\n    </tr>\n    <tr>\n      <td>4</td>\n      <td>62</td>\n      <td>0</td>\n      <td>0</td>\n      <td>138</td>\n      <td>294</td>\n      <td>1</td>\n      <td>1</td>\n      <td>106</td>\n      <td>0</td>\n      <td>1.9</td>\n      <td>1</td>\n      <td>3</td>\n      <td>2</td>\n      <td>0</td>\n    </tr>\n  </tbody>\n</table>\n</div>"
     },
     "metadata": {},
     "output_type": "execute_result",
     "execution_count": 5
=======
     ]
>>>>>>> 6f794fe3b3ff548b6ae88f0f009c42c486bd6abb
    }
   ],
   "source": [
    "import numpy as np # linear algebra\n",
    "import pandas as pd # data processing, CSV file I/O (e.g. pd.read_csv)\n",
    "import os\n",
    "import numpy as np # linear algebra\n",
    "import pandas as pd # data processing, CSV file I/O (e.g. pd.read_csv)\n",
    "import matplotlib.pyplot as plt\n",
    "import seaborn as sns\n",
    "from sklearn.metrics import confusion_matrix\n",
    "from sklearn.model_selection import train_test_split\n",
    "from sklearn.linear_model import LogisticRegression\n",
    "from sklearn.ensemble import RandomForestClassifier\n",
    "from sklearn.neighbors import KNeighborsClassifier\n",
    "from sklearn.tree import DecisionTreeClassifier\n",
    "from sklearn.naive_bayes import GaussianNB\n",
    "from sklearn.metrics import accuracy_score\n",
    "from sklearn.svm import SVC\n",
    "heart= pd.read_csv('heart.csv')\n",
    "print(heart.shape)\n",
<<<<<<< HEAD
    "heart.head()\n"
=======
    "\n",
    "\n",
    "\n",
    "\n",
    "\n",
    "\n",
    "\n",
    "\n"
>>>>>>> 6f794fe3b3ff548b6ae88f0f009c42c486bd6abb
   ]
  },
  {
   "cell_type": "code",
   "execution_count": 3,
   "metadata": {},
   "outputs": [
    {
     "name": "stdout",
     "output_type": "stream",
     "text": [
      "<class 'pandas.core.frame.DataFrame'>\n",
      "RangeIndex: 1025 entries, 0 to 1024\n",
      "Data columns (total 14 columns):\n",
      "age         1025 non-null int64\n",
      "sex         1025 non-null int64\n",
      "cp          1025 non-null int64\n",
      "trestbps    1025 non-null int64\n",
      "chol        1025 non-null int64\n",
      "fbs         1025 non-null int64\n",
      "restecg     1025 non-null int64\n",
      "thalach     1025 non-null int64\n",
      "exang       1025 non-null int64\n",
      "oldpeak     1025 non-null float64\n",
      "slope       1025 non-null int64\n",
      "ca          1025 non-null int64\n",
      "thal        1025 non-null int64\n",
      "target      1025 non-null int64\n",
      "dtypes: float64(1), int64(13)\n",
      "memory usage: 112.2 KB\n"
     ]
    },
    {
     "data": {
      "image/png": "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\n",
      "text/plain": [
       "<Figure size 432x288 with 1 Axes>"
      ]
     },
     "metadata": {
      "needs_background": "light"
     },
     "output_type": "display_data"
    }
   ],
   "source": [
    "# our goal is to try understand the data we got lets start \n",
    "\n",
    "\n",
    "# here we can see the info of each attribute  in the heart dataframe  as you can see it is not null \n",
    "heart.info()\n",
    "\n",
    "#we want to know in each coll or\"attr\" what are the distnguish value we have the counter of differ value \n",
    "heart.nunique()\n",
    "\n",
    "\n",
    "#let us rename the colm we  have to be more understandable \n",
    "heart.columns = ['Age', 'Gender', 'ChestPain', 'RestingBloodPressure', 'Cholestrol', 'FastingBloodSugar', 'RestingECG', 'MaxHeartRateAchivied',\n",
    "       'ExerciseIndusedAngina', 'Oldpeak', 'Slope', 'MajorVessels', 'Thalassemia', 'Target']\n",
    "import seaborn as sns\n",
    "sns.countplot(x='Age',data=heart)\n",
    "plt.xticks()\n",
    "plt.show()"
   ]
  },
  {
   "cell_type": "code",
   "execution_count": null,
   "metadata": {},
   "outputs": [],
   "source": []
  },
  {
   "cell_type": "code",
   "execution_count": null,
   "metadata": {},
   "outputs": [],
   "source": []
  },
  {
   "cell_type": "code",
   "execution_count": null,
   "metadata": {},
   "outputs": [],
   "source": []
  },
  {
   "cell_type": "code",
   "execution_count": null,
   "metadata": {},
   "outputs": [],
   "source": []
  }
 ],
 "metadata": {
  "kernelspec": {
   "display_name": "Python 3",
   "language": "python",
   "name": "python3"
  },
  "language_info": {
   "codemirror_mode": {
    "name": "ipython",
    "version": 3
   },
   "file_extension": ".py",
   "mimetype": "text/x-python",
   "name": "python",
   "nbconvert_exporter": "python",
   "pygments_lexer": "ipython3",
   "version": "3.6.6"
  }
 },
 "nbformat": 4,
 "nbformat_minor": 2
}
